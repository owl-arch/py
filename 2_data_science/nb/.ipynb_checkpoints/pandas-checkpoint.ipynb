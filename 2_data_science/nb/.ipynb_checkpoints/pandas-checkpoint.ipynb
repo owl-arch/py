{
 "cells": [
  {
   "cell_type": "markdown",
   "id": "a96f4f36-3f72-4316-b9de-c5fd72c9b630",
   "metadata": {},
   "source": [
    "# "
   ]
  },
  {
   "cell_type": "markdown",
   "id": "8d107930-4c91-4a2c-b3f0-f892dacb92a3",
   "metadata": {},
   "source": [
    "Carregar o Dataframe com dados do arquivo CSV."
   ]
  },
  {
   "cell_type": "code",
   "execution_count": 45,
   "id": "9d8f8bc9-3433-401f-8849-f21930c04559",
   "metadata": {},
   "outputs": [
    {
     "data": {
      "text/html": [
       "<div>\n",
       "<style scoped>\n",
       "    .dataframe tbody tr th:only-of-type {\n",
       "        vertical-align: middle;\n",
       "    }\n",
       "\n",
       "    .dataframe tbody tr th {\n",
       "        vertical-align: top;\n",
       "    }\n",
       "\n",
       "    .dataframe thead th {\n",
       "        text-align: right;\n",
       "    }\n",
       "</style>\n",
       "<table border=\"1\" class=\"dataframe\">\n",
       "  <thead>\n",
       "    <tr style=\"text-align: right;\">\n",
       "      <th></th>\n",
       "      <th>UF</th>\n",
       "      <th>NOME MUNICÍPIO</th>\n",
       "      <th>CPF FAVORECIDO</th>\n",
       "      <th>NIS FAVORECIDO</th>\n",
       "      <th>NOME FAVORECIDO</th>\n",
       "      <th>VALOR PARCELA</th>\n",
       "    </tr>\n",
       "  </thead>\n",
       "  <tbody>\n",
       "    <tr>\n",
       "      <th>0</th>\n",
       "      <td>AC</td>\n",
       "      <td>ACRELANDIA</td>\n",
       "      <td>***.833.642-**</td>\n",
       "      <td>1.616761e+10</td>\n",
       "      <td>ABIGAIL DAGMAR MACHADO</td>\n",
       "      <td>850,00</td>\n",
       "    </tr>\n",
       "    <tr>\n",
       "      <th>1</th>\n",
       "      <td>AC</td>\n",
       "      <td>ACRELANDIA</td>\n",
       "      <td>NaN</td>\n",
       "      <td>1.612203e+10</td>\n",
       "      <td>ABRAAO AMORA SALGUEIRO</td>\n",
       "      <td>600,00</td>\n",
       "    </tr>\n",
       "    <tr>\n",
       "      <th>2</th>\n",
       "      <td>AC</td>\n",
       "      <td>ACRELANDIA</td>\n",
       "      <td>***.355.042-**</td>\n",
       "      <td>1.612166e+10</td>\n",
       "      <td>ABRAAO DA PIEDADE DO NASCIMENTO</td>\n",
       "      <td>750,00</td>\n",
       "    </tr>\n",
       "    <tr>\n",
       "      <th>3</th>\n",
       "      <td>AC</td>\n",
       "      <td>ACRELANDIA</td>\n",
       "      <td>***.050.782-**</td>\n",
       "      <td>1.609444e+10</td>\n",
       "      <td>ABRAO KEMPNER RUMANZKI</td>\n",
       "      <td>600,00</td>\n",
       "    </tr>\n",
       "    <tr>\n",
       "      <th>4</th>\n",
       "      <td>AC</td>\n",
       "      <td>ACRELANDIA</td>\n",
       "      <td>***.455.212-**</td>\n",
       "      <td>1.611024e+10</td>\n",
       "      <td>ACHILLA MARIA SOUZA ANDRADE</td>\n",
       "      <td>700,00</td>\n",
       "    </tr>\n",
       "  </tbody>\n",
       "</table>\n",
       "</div>"
      ],
      "text/plain": [
       "   UF NOME MUNICÍPIO  CPF FAVORECIDO  NIS FAVORECIDO  \\\n",
       "0  AC     ACRELANDIA  ***.833.642-**    1.616761e+10   \n",
       "1  AC     ACRELANDIA             NaN    1.612203e+10   \n",
       "2  AC     ACRELANDIA  ***.355.042-**    1.612166e+10   \n",
       "3  AC     ACRELANDIA  ***.050.782-**    1.609444e+10   \n",
       "4  AC     ACRELANDIA  ***.455.212-**    1.611024e+10   \n",
       "\n",
       "                   NOME FAVORECIDO VALOR PARCELA  \n",
       "0           ABIGAIL DAGMAR MACHADO        850,00  \n",
       "1           ABRAAO AMORA SALGUEIRO        600,00  \n",
       "2  ABRAAO DA PIEDADE DO NASCIMENTO        750,00  \n",
       "3           ABRAO KEMPNER RUMANZKI        600,00  \n",
       "4      ACHILLA MARIA SOUZA ANDRADE        700,00  "
      ]
     },
     "execution_count": 45,
     "metadata": {},
     "output_type": "execute_result"
    }
   ],
   "source": [
    "import pandas as pd\n",
    "import matplotlib as plt\n",
    "from tqdm.notebook import tqdm\n",
    "\n",
    "colunas_selecionadas_bolsa_familia = ['UF', 'NOME MUNICÍPIO', 'CPF FAVORECIDO', 'NIS FAVORECIDO', 'NOME FAVORECIDO', 'VALOR PARCELA']\n",
    "\n",
    "df = pd.read_csv('/root/datasets/202306_NovoBolsaFamilia.csv',\n",
    "                 delimiter=';',\n",
    "                 encoding = 'ISO-8859-1',\n",
    "                 nrows=100000,\n",
    "                 usecols=colunas_selecionadas_bolsa_familia\n",
    "                 )\n",
    "\n",
    "df.head()"
   ]
  },
  {
   "cell_type": "markdown",
   "id": "35ba498f-046e-442e-a67b-03a0f0e7d5eb",
   "metadata": {},
   "source": [
    "Tratamento das Colunas"
   ]
  },
  {
   "cell_type": "code",
   "execution_count": 46,
   "id": "001167fd-e03a-4862-ab95-55c1bbe7f449",
   "metadata": {},
   "outputs": [
    {
     "data": {
      "application/vnd.jupyter.widget-view+json": {
       "model_id": "ab07b10c8161483ab73a4785b9d7cf3f",
       "version_major": 2,
       "version_minor": 0
      },
      "text/plain": [
       "Limpando ,00 do Valor...:   0%|          | 0/100000 [00:00<?, ?it/s]"
      ]
     },
     "metadata": {},
     "output_type": "display_data"
    },
    {
     "data": {
      "application/vnd.jupyter.widget-view+json": {
       "model_id": "66ebcab5290649a2b581e5c86a24e015",
       "version_major": 2,
       "version_minor": 0
      },
      "text/plain": [
       "Convertendo Valor para String...:   0%|          | 0/100000 [00:00<?, ?it/s]"
      ]
     },
     "metadata": {},
     "output_type": "display_data"
    },
    {
     "data": {
      "application/vnd.jupyter.widget-view+json": {
       "model_id": "46f11b4cfaa24c2e8857ac4367d5de0d",
       "version_major": 2,
       "version_minor": 0
      },
      "text/plain": [
       " + Convertendo para String:   0%|          | 0/100000 [00:00<?, ?it/s]"
      ]
     },
     "metadata": {},
     "output_type": "display_data"
    },
    {
     "data": {
      "text/html": [
       "<div>\n",
       "<style scoped>\n",
       "    .dataframe tbody tr th:only-of-type {\n",
       "        vertical-align: middle;\n",
       "    }\n",
       "\n",
       "    .dataframe tbody tr th {\n",
       "        vertical-align: top;\n",
       "    }\n",
       "\n",
       "    .dataframe thead th {\n",
       "        text-align: right;\n",
       "    }\n",
       "</style>\n",
       "<table border=\"1\" class=\"dataframe\">\n",
       "  <thead>\n",
       "    <tr style=\"text-align: right;\">\n",
       "      <th></th>\n",
       "      <th>UF</th>\n",
       "      <th>Municipio</th>\n",
       "      <th>CPF</th>\n",
       "      <th>NIS</th>\n",
       "      <th>Nome</th>\n",
       "      <th>Valor</th>\n",
       "    </tr>\n",
       "  </thead>\n",
       "  <tbody>\n",
       "    <tr>\n",
       "      <th>0</th>\n",
       "      <td>AC</td>\n",
       "      <td>ACRELANDIA</td>\n",
       "      <td>***.833.642-**</td>\n",
       "      <td></td>\n",
       "      <td>ABIGAIL DAGMAR MACHADO</td>\n",
       "      <td>850</td>\n",
       "    </tr>\n",
       "    <tr>\n",
       "      <th>1</th>\n",
       "      <td>AC</td>\n",
       "      <td>ACRELANDIA</td>\n",
       "      <td>NaN</td>\n",
       "      <td></td>\n",
       "      <td>ABRAAO AMORA SALGUEIRO</td>\n",
       "      <td>600</td>\n",
       "    </tr>\n",
       "    <tr>\n",
       "      <th>2</th>\n",
       "      <td>AC</td>\n",
       "      <td>ACRELANDIA</td>\n",
       "      <td>***.355.042-**</td>\n",
       "      <td></td>\n",
       "      <td>ABRAAO DA PIEDADE DO NASCIMENTO</td>\n",
       "      <td>750</td>\n",
       "    </tr>\n",
       "    <tr>\n",
       "      <th>3</th>\n",
       "      <td>AC</td>\n",
       "      <td>ACRELANDIA</td>\n",
       "      <td>***.050.782-**</td>\n",
       "      <td></td>\n",
       "      <td>ABRAO KEMPNER RUMANZKI</td>\n",
       "      <td>600</td>\n",
       "    </tr>\n",
       "    <tr>\n",
       "      <th>4</th>\n",
       "      <td>AC</td>\n",
       "      <td>ACRELANDIA</td>\n",
       "      <td>***.455.212-**</td>\n",
       "      <td></td>\n",
       "      <td>ACHILLA MARIA SOUZA ANDRADE</td>\n",
       "      <td>700</td>\n",
       "    </tr>\n",
       "  </tbody>\n",
       "</table>\n",
       "</div>"
      ],
      "text/plain": [
       "   UF   Municipio             CPF NIS                             Nome  Valor\n",
       "0  AC  ACRELANDIA  ***.833.642-**               ABIGAIL DAGMAR MACHADO    850\n",
       "1  AC  ACRELANDIA             NaN               ABRAAO AMORA SALGUEIRO    600\n",
       "2  AC  ACRELANDIA  ***.355.042-**      ABRAAO DA PIEDADE DO NASCIMENTO    750\n",
       "3  AC  ACRELANDIA  ***.050.782-**               ABRAO KEMPNER RUMANZKI    600\n",
       "4  AC  ACRELANDIA  ***.455.212-**          ACHILLA MARIA SOUZA ANDRADE    700"
      ]
     },
     "execution_count": 46,
     "metadata": {},
     "output_type": "execute_result"
    }
   ],
   "source": [
    "tqdm.pandas()\n",
    "\n",
    "# Listar as colunas\n",
    "df.columns.values\n",
    "\n",
    "# Renomeia a nome das colunas\n",
    "df.columns = ['UF', 'Municipio', 'CPF', 'NIS', 'Nome', 'Valor']\n",
    "\n",
    "# troca ,00 por '' \n",
    "tqdm.pandas(desc=\"Limpando ,00 do Valor...\")\n",
    "df['Valor'] = df['Valor'].str.replace(',00', '').progress_apply(lambda x: x)\n",
    "\n",
    "# converte a coluna VALOR para número inteiro\n",
    "tqdm.pandas(desc=\"Convertendo Valor para String...\")\n",
    "df['Valor'] = df['Valor'].astype(int).progress_apply(lambda x: x)\n",
    "\n",
    "\n",
    "\n",
    "# converte a coluna NIS para String\n",
    "tqdm.pandas(desc=\" + Convertendo para String\")\n",
    "df['NIS'] = df['NIS'].astype(str).progress_apply(lambda x: 'NaN' if 'nan' else x)\n",
    "\n",
    "# Tratamento dis nan\n",
    "#f = lambda x: '*' if x = 'nan' else str(x)\n",
    "#df['NIS'] = df['NIS'].apply(f)\n",
    "\n",
    "# troca .0 por ''\n",
    "tqdm.pandas(desc=\" + Limpando os ',0'      \")\n",
    "df['NIS'] = df['NIS'].str.replace('.0', '').progress_apply(lambda x: 'nan' if 'NaN' else x)\n",
    "\n",
    "df.head()"
   ]
  },
  {
   "cell_type": "markdown",
   "id": "595d0c3f-d7b7-4ac2-8f4e-888291b5c54b",
   "metadata": {},
   "source": [
    "Filtro de dados do Dataframe"
   ]
  },
  {
   "cell_type": "code",
   "execution_count": 6,
   "id": "6cec4c12-e8d6-43af-8e6c-97a4e9369686",
   "metadata": {},
   "outputs": [
    {
     "data": {
      "text/plain": [
       "array(['AC'], dtype=object)"
      ]
     },
     "execution_count": 6,
     "metadata": {},
     "output_type": "execute_result"
    }
   ],
   "source": [
    "df['UF'].unique()"
   ]
  },
  {
   "cell_type": "code",
   "execution_count": 17,
   "id": "21818375-5972-4f84-8be7-546a2ce91732",
   "metadata": {},
   "outputs": [
    {
     "data": {
      "text/html": [
       "<div>\n",
       "<style scoped>\n",
       "    .dataframe tbody tr th:only-of-type {\n",
       "        vertical-align: middle;\n",
       "    }\n",
       "\n",
       "    .dataframe tbody tr th {\n",
       "        vertical-align: top;\n",
       "    }\n",
       "\n",
       "    .dataframe thead th {\n",
       "        text-align: right;\n",
       "    }\n",
       "</style>\n",
       "<table border=\"1\" class=\"dataframe\">\n",
       "  <thead>\n",
       "    <tr style=\"text-align: right;\">\n",
       "      <th></th>\n",
       "      <th>UF</th>\n",
       "      <th>Municipio</th>\n",
       "      <th>CPF</th>\n",
       "      <th>NIS</th>\n",
       "      <th>Nome</th>\n",
       "      <th>Valor</th>\n",
       "    </tr>\n",
       "  </thead>\n",
       "  <tbody>\n",
       "    <tr>\n",
       "      <th>99852</th>\n",
       "      <td>AC</td>\n",
       "      <td>SANTA ROSA DO PURUS</td>\n",
       "      <td>NaN</td>\n",
       "      <td>nan</td>\n",
       "      <td>*** BENEFICIÁRIO MENOR DE 16 ANOS ***</td>\n",
       "      <td>750</td>\n",
       "    </tr>\n",
       "  </tbody>\n",
       "</table>\n",
       "</div>"
      ],
      "text/plain": [
       "       UF            Municipio  CPF  NIS  \\\n",
       "99852  AC  SANTA ROSA DO PURUS  NaN  nan   \n",
       "\n",
       "                                        Nome  Valor  \n",
       "99852  *** BENEFICIÁRIO MENOR DE 16 ANOS ***    750  "
      ]
     },
     "execution_count": 17,
     "metadata": {},
     "output_type": "execute_result"
    }
   ],
   "source": [
    "#filtrado = df[df['Valor']>2640]\n",
    "filtrado = df[df['NIS']=='nan']\n",
    "filtrado"
   ]
  },
  {
   "cell_type": "code",
   "execution_count": 65,
   "id": "7dd4a6db-559e-46d3-9e24-d47dfd97ff9f",
   "metadata": {},
   "outputs": [
    {
     "name": "stderr",
     "output_type": "stream",
     "text": [
      "/tmp/ipykernel_3955/29895167.py:2: FutureWarning: The default value of numeric_only in DataFrame.corr is deprecated. In a future version, it will default to False. Select only valid columns or specify the value of numeric_only to silence this warning.\n",
      "  correlation_matrix = df.corr()\n"
     ]
    },
    {
     "data": {
      "text/plain": [
       "<Axes: xlabel='Valor', ylabel='novo'>"
      ]
     },
     "execution_count": 65,
     "metadata": {},
     "output_type": "execute_result"
    },
    {
     "data": {
      "image/png": "[encoded data removed]",
      "text/plain": [
       "<Figure size 640x480 with 1 Axes>"
      ]
     },
     "metadata": {},
     "output_type": "display_data"
    }
   ],
   "source": [
    "df['novo']=df['Valor']+100\n",
    "correlation_matrix = df.corr()\n",
    "df.plot(kind='scatter', x='Valor', y='novo')"
   ]
  },
  {
   "cell_type": "markdown",
   "id": "34e70edc-5601-47ca-b277-53be38b671de",
   "metadata": {},
   "source": [
    "*Filtrando por mais de uma coluna e condição* "
   ]
  },
  {
   "cell_type": "code",
   "execution_count": 66,
   "id": "25813407-9d74-4394-b238-b7dbe87a7407",
   "metadata": {},
   "outputs": [
    {
     "data": {
      "text/html": [
       "<div>\n",
       "<style scoped>\n",
       "    .dataframe tbody tr th:only-of-type {\n",
       "        vertical-align: middle;\n",
       "    }\n",
       "\n",
       "    .dataframe tbody tr th {\n",
       "        vertical-align: top;\n",
       "    }\n",
       "\n",
       "    .dataframe thead th {\n",
       "        text-align: right;\n",
       "    }\n",
       "</style>\n",
       "<table border=\"1\" class=\"dataframe\">\n",
       "  <thead>\n",
       "    <tr style=\"text-align: right;\">\n",
       "      <th></th>\n",
       "      <th>UF</th>\n",
       "      <th>Municipio</th>\n",
       "      <th>CPF</th>\n",
       "      <th>NIS</th>\n",
       "      <th>Nome</th>\n",
       "      <th>Valor</th>\n",
       "      <th>novo</th>\n",
       "    </tr>\n",
       "  </thead>\n",
       "  <tbody>\n",
       "    <tr>\n",
       "      <th>54253</th>\n",
       "      <td>AC</td>\n",
       "      <td>PORTO WALTER</td>\n",
       "      <td>***.614.742-**</td>\n",
       "      <td>2281878</td>\n",
       "      <td>MARIA JOSE GOMES DA SILVA</td>\n",
       "      <td>2746</td>\n",
       "      <td>2846</td>\n",
       "    </tr>\n",
       "    <tr>\n",
       "      <th>119294</th>\n",
       "      <td>AC</td>\n",
       "      <td>TARAUACA</td>\n",
       "      <td>***.406.292-**</td>\n",
       "      <td>16499619842</td>\n",
       "      <td>MARIA DA LIBERDADE DA SILVA SA KAXINAWA</td>\n",
       "      <td>2796</td>\n",
       "      <td>2896</td>\n",
       "    </tr>\n",
       "    <tr>\n",
       "      <th>120171</th>\n",
       "      <td>AC</td>\n",
       "      <td>TARAUACA</td>\n",
       "      <td>***.391.312-**</td>\n",
       "      <td>1645566</td>\n",
       "      <td>MARIA GRACIETE RODRIGUES DA SILVA</td>\n",
       "      <td>2830</td>\n",
       "      <td>2930</td>\n",
       "    </tr>\n",
       "    <tr>\n",
       "      <th>120227</th>\n",
       "      <td>AC</td>\n",
       "      <td>TARAUACA</td>\n",
       "      <td>***.606.682-**</td>\n",
       "      <td>16433645748</td>\n",
       "      <td>MARIA IOLANDA TELES SILVINO</td>\n",
       "      <td>2654</td>\n",
       "      <td>2754</td>\n",
       "    </tr>\n",
       "    <tr>\n",
       "      <th>120800</th>\n",
       "      <td>AC</td>\n",
       "      <td>TARAUACA</td>\n",
       "      <td>***.037.452-**</td>\n",
       "      <td>16492579721</td>\n",
       "      <td>MARIA LUZANIRA RIBEIRO DE SOUZA</td>\n",
       "      <td>2788</td>\n",
       "      <td>2888</td>\n",
       "    </tr>\n",
       "    <tr>\n",
       "      <th>278733</th>\n",
       "      <td>AL</td>\n",
       "      <td>INHAPI</td>\n",
       "      <td>***.877.194-**</td>\n",
       "      <td>16513148937</td>\n",
       "      <td>MARIA WILMA SANTANA DA PAZ</td>\n",
       "      <td>2704</td>\n",
       "      <td>2804</td>\n",
       "    </tr>\n",
       "    <tr>\n",
       "      <th>444657</th>\n",
       "      <td>AL</td>\n",
       "      <td>MESSIAS</td>\n",
       "      <td>***.357.614-**</td>\n",
       "      <td>16467588178</td>\n",
       "      <td>MARIA CARLA DA CONCEICAO GOMES</td>\n",
       "      <td>2754</td>\n",
       "      <td>2854</td>\n",
       "    </tr>\n",
       "    <tr>\n",
       "      <th>702608</th>\n",
       "      <td>AM</td>\n",
       "      <td>BERURI</td>\n",
       "      <td>***.830.032-**</td>\n",
       "      <td>1651688</td>\n",
       "      <td>MARIA DE NAZARE BRASIL DA SILVA</td>\n",
       "      <td>2746</td>\n",
       "      <td>2846</td>\n",
       "    </tr>\n",
       "    <tr>\n",
       "      <th>702626</th>\n",
       "      <td>AM</td>\n",
       "      <td>BERURI</td>\n",
       "      <td>***.210.322-**</td>\n",
       "      <td>16484887331</td>\n",
       "      <td>MARIA DO LIVRAMENTO DANTAS SOARES</td>\n",
       "      <td>2980</td>\n",
       "      <td>3080</td>\n",
       "    </tr>\n",
       "  </tbody>\n",
       "</table>\n",
       "</div>"
      ],
      "text/plain": [
       "        UF     Municipio             CPF          NIS  \\\n",
       "54253   AC  PORTO WALTER  ***.614.742-**      2281878   \n",
       "119294  AC      TARAUACA  ***.406.292-**  16499619842   \n",
       "120171  AC      TARAUACA  ***.391.312-**      1645566   \n",
       "120227  AC      TARAUACA  ***.606.682-**  16433645748   \n",
       "120800  AC      TARAUACA  ***.037.452-**  16492579721   \n",
       "278733  AL        INHAPI  ***.877.194-**  16513148937   \n",
       "444657  AL       MESSIAS  ***.357.614-**  16467588178   \n",
       "702608  AM        BERURI  ***.830.032-**      1651688   \n",
       "702626  AM        BERURI  ***.210.322-**  16484887331   \n",
       "\n",
       "                                           Nome  Valor  novo  \n",
       "54253                 MARIA JOSE GOMES DA SILVA   2746  2846  \n",
       "119294  MARIA DA LIBERDADE DA SILVA SA KAXINAWA   2796  2896  \n",
       "120171        MARIA GRACIETE RODRIGUES DA SILVA   2830  2930  \n",
       "120227              MARIA IOLANDA TELES SILVINO   2654  2754  \n",
       "120800          MARIA LUZANIRA RIBEIRO DE SOUZA   2788  2888  \n",
       "278733               MARIA WILMA SANTANA DA PAZ   2704  2804  \n",
       "444657           MARIA CARLA DA CONCEICAO GOMES   2754  2854  \n",
       "702608          MARIA DE NAZARE BRASIL DA SILVA   2746  2846  \n",
       "702626        MARIA DO LIVRAMENTO DANTAS SOARES   2980  3080  "
      ]
     },
     "metadata": {},
     "output_type": "display_data"
    }
   ],
   "source": [
    "# usando loc\n",
    "#display(df.loc[(df['CPF']=='NAN') | (df['NIS']=='nan'),['UF', 'Municipio','Nome','NIS', 'CPF','Valor']])\n",
    "\n",
    "# usando consulta (avaliação e consulta funcionam apenas com colunas)\n",
    "display(df.query('Valor > 2640 & Nome.str.startswith(\"MARIA\").values'))"
   ]
  },
  {
   "cell_type": "code",
   "execution_count": 67,
   "id": "d1b26832-6b31-44d8-ba1d-40e21f63fa7a",
   "metadata": {},
   "outputs": [],
   "source": [
    "filtrado = df[df['Nome']=='*** BENEFICIÁRIO MENOR DE 16 ANOS ***'].sum()\n",
    "#filtrado.value_counts()\n",
    "\n"
   ]
  },
  {
   "cell_type": "code",
   "execution_count": 34,
   "id": "bf17b828-f22e-4f96-bd2b-66d33f13e8f9",
   "metadata": {},
   "outputs": [
    {
     "data": {
      "application/vnd.jupyter.widget-view+json": {
       "model_id": "128133cbafa64cbea1a7e838ba3de5c8",
       "version_major": 2,
       "version_minor": 0
      },
      "text/plain": [
       "  0%|          | 0/930732 [00:00<?, ?it/s]"
      ]
     },
     "metadata": {},
     "output_type": "display_data"
    },
    {
     "data": {
      "text/plain": [
       "0             49\n",
       "001            1\n",
       "00151          1\n",
       "00191          1\n",
       "00198          1\n",
       "            ... \n",
       "999999294      1\n",
       "999999324      1\n",
       "999999448      1\n",
       "9999998        1\n",
       "nan          529\n",
       "Name: NIS, Length: 930732, dtype: int64"
      ]
     },
     "execution_count": 34,
     "metadata": {},
     "output_type": "execute_result"
    }
   ],
   "source": [
    "tqdm.pandas()\n",
    "duplo=df['NIS'].value_counts().sort_index().progress_apply(lambda x: x**2)\n",
    "duplo\n",
    "\n",
    "#grupo = df.groupby('NIS').count"
   ]
  },
  {
   "cell_type": "code",
   "execution_count": 18,
   "id": "a6afe2eb-36a0-4b04-99f0-99d1af5346ae",
   "metadata": {},
   "outputs": [
    {
     "name": "stdout",
     "output_type": "stream",
     "text": [
      "<class 'pandas.core.frame.DataFrame'>\n",
      "RangeIndex: 100000 entries, 0 to 99999\n",
      "Data columns (total 6 columns):\n",
      " #   Column     Non-Null Count   Dtype \n",
      "---  ------     --------------   ----- \n",
      " 0   UF         100000 non-null  object\n",
      " 1   Municipio  100000 non-null  object\n",
      " 2   CPF        86574 non-null   object\n",
      " 3   NIS        100000 non-null  object\n",
      " 4   Nome       100000 non-null  object\n",
      " 5   Valor      100000 non-null  int64 \n",
      "dtypes: int64(1), object(5)\n",
      "memory usage: 4.6+ MB\n"
     ]
    }
   ],
   "source": [
    "df.describe()\n",
    "df.info()"
   ]
  },
  {
   "cell_type": "code",
   "execution_count": 19,
   "id": "2b3b0977-aed6-4edc-b76e-f2ff5263de53",
   "metadata": {},
   "outputs": [],
   "source": [
    "df.to_csv('output.csv', index=False)"
   ]
  },
  {
   "cell_type": "code",
   "execution_count": null,
   "id": "60571832-f1ba-428e-82ce-77a30800e8a9",
   "metadata": {},
   "outputs": [],
   "source": []
  }
 ],
 "metadata": {
  "kernelspec": {
   "display_name": "Python 3 (ipykernel)",
   "language": "python",
   "name": "python3"
  },
  "language_info": {
   "codemirror_mode": {
    "name": "ipython",
    "version": 3
   },
   "file_extension": ".py",
   "mimetype": "text/x-python",
   "name": "python",
   "nbconvert_exporter": "python",
   "pygments_lexer": "ipython3",
   "version": "3.10.12"
  }
 },
 "nbformat": 4,
 "nbformat_minor": 5
}
