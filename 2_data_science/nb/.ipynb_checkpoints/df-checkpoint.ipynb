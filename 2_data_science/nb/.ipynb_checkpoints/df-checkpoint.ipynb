{
 "cells": [
  {
   "cell_type": "code",
   "execution_count": 1,
   "metadata": {},
   "outputs": [
    {
     "data": {
      "text/html": [
       "<div>\n",
       "<style scoped>\n",
       "    .dataframe tbody tr th:only-of-type {\n",
       "        vertical-align: middle;\n",
       "    }\n",
       "\n",
       "    .dataframe tbody tr th {\n",
       "        vertical-align: top;\n",
       "    }\n",
       "\n",
       "    .dataframe thead th {\n",
       "        text-align: right;\n",
       "    }\n",
       "</style>\n",
       "<table border=\"1\" class=\"dataframe\">\n",
       "  <thead>\n",
       "    <tr style=\"text-align: right;\">\n",
       "      <th></th>\n",
       "      <th>UF</th>\n",
       "      <th>NOME MUNICÍPIO</th>\n",
       "      <th>VALOR PARCELA</th>\n",
       "    </tr>\n",
       "  </thead>\n",
       "  <tbody>\n",
       "    <tr>\n",
       "      <th>0</th>\n",
       "      <td>AC</td>\n",
       "      <td>ACRELANDIA</td>\n",
       "      <td>850,00</td>\n",
       "    </tr>\n",
       "    <tr>\n",
       "      <th>1</th>\n",
       "      <td>AC</td>\n",
       "      <td>ACRELANDIA</td>\n",
       "      <td>600,00</td>\n",
       "    </tr>\n",
       "    <tr>\n",
       "      <th>2</th>\n",
       "      <td>AC</td>\n",
       "      <td>ACRELANDIA</td>\n",
       "      <td>750,00</td>\n",
       "    </tr>\n",
       "    <tr>\n",
       "      <th>3</th>\n",
       "      <td>AC</td>\n",
       "      <td>ACRELANDIA</td>\n",
       "      <td>600,00</td>\n",
       "    </tr>\n",
       "    <tr>\n",
       "      <th>4</th>\n",
       "      <td>AC</td>\n",
       "      <td>ACRELANDIA</td>\n",
       "      <td>700,00</td>\n",
       "    </tr>\n",
       "    <tr>\n",
       "      <th>...</th>\n",
       "      <td>...</td>\n",
       "      <td>...</td>\n",
       "      <td>...</td>\n",
       "    </tr>\n",
       "    <tr>\n",
       "      <th>99995</th>\n",
       "      <td>AC</td>\n",
       "      <td>SANTA ROSA DO PURUS</td>\n",
       "      <td>1202,00</td>\n",
       "    </tr>\n",
       "    <tr>\n",
       "      <th>99996</th>\n",
       "      <td>AC</td>\n",
       "      <td>SANTA ROSA DO PURUS</td>\n",
       "      <td>1536,00</td>\n",
       "    </tr>\n",
       "    <tr>\n",
       "      <th>99997</th>\n",
       "      <td>AC</td>\n",
       "      <td>SANTA ROSA DO PURUS</td>\n",
       "      <td>776,00</td>\n",
       "    </tr>\n",
       "    <tr>\n",
       "      <th>99998</th>\n",
       "      <td>AC</td>\n",
       "      <td>SANTA ROSA DO PURUS</td>\n",
       "      <td>1636,00</td>\n",
       "    </tr>\n",
       "    <tr>\n",
       "      <th>99999</th>\n",
       "      <td>AC</td>\n",
       "      <td>SANTA ROSA DO PURUS</td>\n",
       "      <td>1394,00</td>\n",
       "    </tr>\n",
       "  </tbody>\n",
       "</table>\n",
       "<p>100000 rows × 3 columns</p>\n",
       "</div>"
      ],
      "text/plain": [
       "       UF       NOME MUNICÍPIO VALOR PARCELA\n",
       "0      AC           ACRELANDIA        850,00\n",
       "1      AC           ACRELANDIA        600,00\n",
       "2      AC           ACRELANDIA        750,00\n",
       "3      AC           ACRELANDIA        600,00\n",
       "4      AC           ACRELANDIA        700,00\n",
       "...    ..                  ...           ...\n",
       "99995  AC  SANTA ROSA DO PURUS       1202,00\n",
       "99996  AC  SANTA ROSA DO PURUS       1536,00\n",
       "99997  AC  SANTA ROSA DO PURUS        776,00\n",
       "99998  AC  SANTA ROSA DO PURUS       1636,00\n",
       "99999  AC  SANTA ROSA DO PURUS       1394,00\n",
       "\n",
       "[100000 rows x 3 columns]"
      ]
     },
     "execution_count": 1,
     "metadata": {},
     "output_type": "execute_result"
    }
   ],
   "source": [
    "import pandas as pd\n",
    "from jupyter_datatables import init_datatables_mode\n",
    "import matplotlib as plt\n",
    "from tqdm.notebook import tqdm\n",
    "\n",
    "#init_datatables_mode()\n",
    "\n",
    "#print(pd.options.display.max_rows)\n",
    "\n",
    "#col = ['UF', 'NOME MUNICÍPIO', 'NOME FAVORECIDO', 'VALOR PARCELA']\n",
    "colunas_selecionadas_bolsa_familia = ['UF','NOME MUNICÍPIO','VALOR PARCELA']\n",
    "\n",
    "#tqdm.pandas()\n",
    "\n",
    "df = pd.read_csv('/root/datasets/202306_NovoBolsaFamilia.csv',\n",
    "                 delimiter=';',\n",
    "                 encoding = 'ISO-8859-1',\n",
    "                 nrows=100000,\n",
    "                 usecols=colunas_selecionadas_bolsa_familia\n",
    "                 )\n",
    "df"
   ]
  },
  {
   "cell_type": "code",
   "execution_count": 2,
   "metadata": {},
   "outputs": [
    {
     "data": {
      "text/html": [
       "<div>\n",
       "<style scoped>\n",
       "    .dataframe tbody tr th:only-of-type {\n",
       "        vertical-align: middle;\n",
       "    }\n",
       "\n",
       "    .dataframe tbody tr th {\n",
       "        vertical-align: top;\n",
       "    }\n",
       "\n",
       "    .dataframe thead th {\n",
       "        text-align: right;\n",
       "    }\n",
       "</style>\n",
       "<table border=\"1\" class=\"dataframe\">\n",
       "  <thead>\n",
       "    <tr style=\"text-align: right;\">\n",
       "      <th></th>\n",
       "      <th>UF</th>\n",
       "      <th>NOME MUNICÍPIO</th>\n",
       "      <th>VALOR PARCELA</th>\n",
       "    </tr>\n",
       "  </thead>\n",
       "  <tbody>\n",
       "    <tr>\n",
       "      <th>0</th>\n",
       "      <td>AC</td>\n",
       "      <td>ACRELANDIA</td>\n",
       "      <td>850</td>\n",
       "    </tr>\n",
       "    <tr>\n",
       "      <th>1</th>\n",
       "      <td>AC</td>\n",
       "      <td>ACRELANDIA</td>\n",
       "      <td>600</td>\n",
       "    </tr>\n",
       "    <tr>\n",
       "      <th>2</th>\n",
       "      <td>AC</td>\n",
       "      <td>ACRELANDIA</td>\n",
       "      <td>750</td>\n",
       "    </tr>\n",
       "    <tr>\n",
       "      <th>3</th>\n",
       "      <td>AC</td>\n",
       "      <td>ACRELANDIA</td>\n",
       "      <td>600</td>\n",
       "    </tr>\n",
       "    <tr>\n",
       "      <th>4</th>\n",
       "      <td>AC</td>\n",
       "      <td>ACRELANDIA</td>\n",
       "      <td>700</td>\n",
       "    </tr>\n",
       "    <tr>\n",
       "      <th>...</th>\n",
       "      <td>...</td>\n",
       "      <td>...</td>\n",
       "      <td>...</td>\n",
       "    </tr>\n",
       "    <tr>\n",
       "      <th>99995</th>\n",
       "      <td>AC</td>\n",
       "      <td>SANTA ROSA DO PURUS</td>\n",
       "      <td>1202</td>\n",
       "    </tr>\n",
       "    <tr>\n",
       "      <th>99996</th>\n",
       "      <td>AC</td>\n",
       "      <td>SANTA ROSA DO PURUS</td>\n",
       "      <td>1536</td>\n",
       "    </tr>\n",
       "    <tr>\n",
       "      <th>99997</th>\n",
       "      <td>AC</td>\n",
       "      <td>SANTA ROSA DO PURUS</td>\n",
       "      <td>776</td>\n",
       "    </tr>\n",
       "    <tr>\n",
       "      <th>99998</th>\n",
       "      <td>AC</td>\n",
       "      <td>SANTA ROSA DO PURUS</td>\n",
       "      <td>1636</td>\n",
       "    </tr>\n",
       "    <tr>\n",
       "      <th>99999</th>\n",
       "      <td>AC</td>\n",
       "      <td>SANTA ROSA DO PURUS</td>\n",
       "      <td>1394</td>\n",
       "    </tr>\n",
       "  </tbody>\n",
       "</table>\n",
       "<p>100000 rows × 3 columns</p>\n",
       "</div>"
      ],
      "text/plain": [
       "       UF       NOME MUNICÍPIO  VALOR PARCELA\n",
       "0      AC           ACRELANDIA            850\n",
       "1      AC           ACRELANDIA            600\n",
       "2      AC           ACRELANDIA            750\n",
       "3      AC           ACRELANDIA            600\n",
       "4      AC           ACRELANDIA            700\n",
       "...    ..                  ...            ...\n",
       "99995  AC  SANTA ROSA DO PURUS           1202\n",
       "99996  AC  SANTA ROSA DO PURUS           1536\n",
       "99997  AC  SANTA ROSA DO PURUS            776\n",
       "99998  AC  SANTA ROSA DO PURUS           1636\n",
       "99999  AC  SANTA ROSA DO PURUS           1394\n",
       "\n",
       "[100000 rows x 3 columns]"
      ]
     },
     "execution_count": 2,
     "metadata": {},
     "output_type": "execute_result"
    }
   ],
   "source": [
    "# troca , por . \n",
    "# troca ,00 por '' \n",
    "df['VALOR PARCELA'] = df['VALOR PARCELA'].str.replace(',00', '')\n",
    "\n",
    "\n",
    "# convert points column from object to float\n",
    "df['VALOR PARCELA'] = df['VALOR PARCELA'].astype(int)\n",
    "\n",
    "df"
   ]
  },
  {
   "cell_type": "code",
   "execution_count": 3,
   "metadata": {},
   "outputs": [
    {
     "data": {
      "application/vnd.jupyter.widget-view+json": {
       "model_id": "2bc1f31c472d41b7a142e347b1367e90",
       "version_major": 2,
       "version_minor": 0
      },
      "text/plain": [
       "  0%|          | 0/18 [00:00<?, ?it/s]"
      ]
     },
     "metadata": {},
     "output_type": "display_data"
    },
    {
     "name": "stderr",
     "output_type": "stream",
     "text": [
      "2023-09-15 15:00:06,316 [794] WARNING  py.warnings:109: [JupyterRequire] /tmp/ipykernel_794/3843458750.py:12: FutureWarning: The default value of numeric_only in DataFrameGroupBy.sum is deprecated. In a future version, numeric_only will default to False. Either specify numeric_only or select only columns which should be valid for the function.\n",
      "  municipio_valor=df.groupby(['NOME MUNICÍPIO']).sum().sort_values('VALOR PARCELA', ascending=False).progress_apply(lambda x: x**2)\n",
      "\n"
     ]
    },
    {
     "data": {
      "application/vnd.jupyter.widget-view+json": {
       "model_id": "d3ac3e063b184cb69e1e6401bfd65f65",
       "version_major": 2,
       "version_minor": 0
      },
      "text/plain": [
       "  0%|          | 0/1 [00:00<?, ?it/s]"
      ]
     },
     "metadata": {},
     "output_type": "display_data"
    },
    {
     "data": {
      "text/html": [
       "<div>\n",
       "<style scoped>\n",
       "    .dataframe tbody tr th:only-of-type {\n",
       "        vertical-align: middle;\n",
       "    }\n",
       "\n",
       "    .dataframe tbody tr th {\n",
       "        vertical-align: top;\n",
       "    }\n",
       "\n",
       "    .dataframe thead th {\n",
       "        text-align: right;\n",
       "    }\n",
       "</style>\n",
       "<table border=\"1\" class=\"dataframe\">\n",
       "  <thead>\n",
       "    <tr style=\"text-align: right;\">\n",
       "      <th></th>\n",
       "      <th>VALOR PARCELA</th>\n",
       "    </tr>\n",
       "    <tr>\n",
       "      <th>NOME MUNICÍPIO</th>\n",
       "      <th></th>\n",
       "    </tr>\n",
       "  </thead>\n",
       "  <tbody>\n",
       "    <tr>\n",
       "      <th>RIO BRANCO</th>\n",
       "      <td>847856584572529</td>\n",
       "    </tr>\n",
       "    <tr>\n",
       "      <th>CRUZEIRO DO SUL</th>\n",
       "      <td>102878907269776</td>\n",
       "    </tr>\n",
       "    <tr>\n",
       "      <th>FEIJO</th>\n",
       "      <td>20292610391824</td>\n",
       "    </tr>\n",
       "    <tr>\n",
       "      <th>BRASILEIA</th>\n",
       "      <td>10902616251921</td>\n",
       "    </tr>\n",
       "    <tr>\n",
       "      <th>MARECHAL THAUMATURGO</th>\n",
       "      <td>10039899216400</td>\n",
       "    </tr>\n",
       "  </tbody>\n",
       "</table>\n",
       "</div>"
      ],
      "text/plain": [
       "                        VALOR PARCELA\n",
       "NOME MUNICÍPIO                       \n",
       "RIO BRANCO            847856584572529\n",
       "CRUZEIRO DO SUL       102878907269776\n",
       "FEIJO                  20292610391824\n",
       "BRASILEIA              10902616251921\n",
       "MARECHAL THAUMATURGO   10039899216400"
      ]
     },
     "execution_count": 3,
     "metadata": {},
     "output_type": "execute_result"
    }
   ],
   "source": [
    "# col_municipio=df['NOME MUNICÍPIO']\n",
    "# col_municipio.value_counts()\n",
    "\n",
    "tqdm.pandas()\n",
    "#tqdm.pandas(bar_format='{l_bar}{bar:20}{r_bar}{bar:-20b}')\n",
    "\n",
    "# Quantidade de Pagamentos em cada cidade e ordena pelo indice\n",
    "municipio_qde=df['NOME MUNICÍPIO'].value_counts().sort_index().progress_apply(lambda x: x**2)\n",
    "municipio_qde.head()\n",
    "\n",
    "# Valor dos Pagamentos em cada cidade e ordenação decrescente pelo valor\n",
    "municipio_valor=df.groupby(['NOME MUNICÍPIO']).sum().sort_values('VALOR PARCELA', ascending=False).progress_apply(lambda x: x**2)\n",
    "municipio_valor.head()\n"
   ]
  },
  {
   "cell_type": "code",
   "execution_count": 19,
   "metadata": {},
   "outputs": [
    {
     "data": {
      "text/html": [
       "<div>\n",
       "<style scoped>\n",
       "    .dataframe tbody tr th:only-of-type {\n",
       "        vertical-align: middle;\n",
       "    }\n",
       "\n",
       "    .dataframe tbody tr th {\n",
       "        vertical-align: top;\n",
       "    }\n",
       "\n",
       "    .dataframe thead th {\n",
       "        text-align: right;\n",
       "    }\n",
       "</style>\n",
       "<table border=\"1\" class=\"dataframe\">\n",
       "  <thead>\n",
       "    <tr style=\"text-align: right;\">\n",
       "      <th></th>\n",
       "      <th>VALOR PARCELA</th>\n",
       "    </tr>\n",
       "  </thead>\n",
       "  <tbody>\n",
       "    <tr>\n",
       "      <th>count</th>\n",
       "      <td>100000.000000</td>\n",
       "    </tr>\n",
       "    <tr>\n",
       "      <th>mean</th>\n",
       "      <td>731.655560</td>\n",
       "    </tr>\n",
       "    <tr>\n",
       "      <th>std</th>\n",
       "      <td>217.943897</td>\n",
       "    </tr>\n",
       "    <tr>\n",
       "      <th>min</th>\n",
       "      <td>180.000000</td>\n",
       "    </tr>\n",
       "    <tr>\n",
       "      <th>25%</th>\n",
       "      <td>600.000000</td>\n",
       "    </tr>\n",
       "    <tr>\n",
       "      <th>50%</th>\n",
       "      <td>700.000000</td>\n",
       "    </tr>\n",
       "    <tr>\n",
       "      <th>75%</th>\n",
       "      <td>800.000000</td>\n",
       "    </tr>\n",
       "    <tr>\n",
       "      <th>max</th>\n",
       "      <td>2746.000000</td>\n",
       "    </tr>\n",
       "  </tbody>\n",
       "</table>\n",
       "</div>"
      ],
      "text/plain": [
       "       VALOR PARCELA\n",
       "count  100000.000000\n",
       "mean      731.655560\n",
       "std       217.943897\n",
       "min       180.000000\n",
       "25%       600.000000\n",
       "50%       700.000000\n",
       "75%       800.000000\n",
       "max      2746.000000"
      ]
     },
     "execution_count": 19,
     "metadata": {},
     "output_type": "execute_result"
    }
   ],
   "source": [
    "df.describe()"
   ]
  },
  {
   "cell_type": "code",
   "execution_count": 6,
   "metadata": {},
   "outputs": [
    {
     "data": {
      "text/plain": [
       "<Axes: ylabel='Frequency'>"
      ]
     },
     "execution_count": 6,
     "metadata": {},
     "output_type": "execute_result"
    }
   ],
   "source": [
    "df.plot(kind='hist')"
   ]
  },
  {
   "cell_type": "code",
   "execution_count": 10,
   "metadata": {},
   "outputs": [
    {
     "data": {
      "text/plain": [
       "<Axes: ylabel='Frequency'>"
      ]
     },
     "execution_count": 10,
     "metadata": {},
     "output_type": "execute_result"
    }
   ],
   "source": [
    "df.boxplot()"
   ]
  },
  {
   "cell_type": "code",
   "execution_count": 9,
   "metadata": {},
   "outputs": [
    {
     "data": {
      "application/vnd.jupyter.widget-view+json": {
       "model_id": "ed85e987b6484b69a283dccdce72511b",
       "version_major": 2,
       "version_minor": 0
      },
      "text/plain": [
       "Traning Model on 10 Epochs:   0%|          | 0/10 [00:00<?, ?it/s]"
      ]
     },
     "metadata": {},
     "output_type": "display_data"
    },
    {
     "data": {
      "application/vnd.jupyter.widget-view+json": {
       "model_id": "e70c69b550dc4b2f9c0d6656d0fb537b",
       "version_major": 2,
       "version_minor": 0
      },
      "text/plain": [
       "Epoch 0:   0%|          | 0/100 [00:00<?, ?it/s]"
      ]
     },
     "metadata": {},
     "output_type": "display_data"
    },
    {
     "data": {
      "application/vnd.jupyter.widget-view+json": {
       "model_id": "3fdc57ddbb3846e5a792840a349139e0",
       "version_major": 2,
       "version_minor": 0
      },
      "text/plain": [
       "Epoch 1:   0%|          | 0/100 [00:00<?, ?it/s]"
      ]
     },
     "metadata": {},
     "output_type": "display_data"
    },
    {
     "data": {
      "application/vnd.jupyter.widget-view+json": {
       "model_id": "4297562a8ee64aa29c772c12641ae083",
       "version_major": 2,
       "version_minor": 0
      },
      "text/plain": [
       "Epoch 2:   0%|          | 0/100 [00:00<?, ?it/s]"
      ]
     },
     "metadata": {},
     "output_type": "display_data"
    },
    {
     "data": {
      "application/vnd.jupyter.widget-view+json": {
       "model_id": "7c8a3238688b4592b601f618953dc3e6",
       "version_major": 2,
       "version_minor": 0
      },
      "text/plain": [
       "Epoch 3:   0%|          | 0/100 [00:00<?, ?it/s]"
      ]
     },
     "metadata": {},
     "output_type": "display_data"
    },
    {
     "data": {
      "application/vnd.jupyter.widget-view+json": {
       "model_id": "524e237dad31410e864fd2327014c0a2",
       "version_major": 2,
       "version_minor": 0
      },
      "text/plain": [
       "Epoch 4:   0%|          | 0/100 [00:00<?, ?it/s]"
      ]
     },
     "metadata": {},
     "output_type": "display_data"
    },
    {
     "data": {
      "application/vnd.jupyter.widget-view+json": {
       "model_id": "bc003274784345ccafb5bdf27f4de2fb",
       "version_major": 2,
       "version_minor": 0
      },
      "text/plain": [
       "Epoch 5:   0%|          | 0/100 [00:00<?, ?it/s]"
      ]
     },
     "metadata": {},
     "output_type": "display_data"
    },
    {
     "data": {
      "application/vnd.jupyter.widget-view+json": {
       "model_id": "4ff4f399346743ac99e0485cb5a8b2c8",
       "version_major": 2,
       "version_minor": 0
      },
      "text/plain": [
       "Epoch 6:   0%|          | 0/100 [00:00<?, ?it/s]"
      ]
     },
     "metadata": {},
     "output_type": "display_data"
    },
    {
     "data": {
      "application/vnd.jupyter.widget-view+json": {
       "model_id": "3bf0006884dc4046ad53b0531e2b1a24",
       "version_major": 2,
       "version_minor": 0
      },
      "text/plain": [
       "Epoch 7:   0%|          | 0/100 [00:00<?, ?it/s]"
      ]
     },
     "metadata": {},
     "output_type": "display_data"
    },
    {
     "data": {
      "application/vnd.jupyter.widget-view+json": {
       "model_id": "c887673fd01d4e3392ba450319b07d79",
       "version_major": 2,
       "version_minor": 0
      },
      "text/plain": [
       "Epoch 8:   0%|          | 0/100 [00:00<?, ?it/s]"
      ]
     },
     "metadata": {},
     "output_type": "display_data"
    },
    {
     "data": {
      "application/vnd.jupyter.widget-view+json": {
       "model_id": "51d3d98e9eb14205b27925f567225e17",
       "version_major": 2,
       "version_minor": 0
      },
      "text/plain": [
       "Epoch 9:   0%|          | 0/100 [00:00<?, ?it/s]"
      ]
     },
     "metadata": {},
     "output_type": "display_data"
    }
   ],
   "source": [
    "# https://www.kdnuggets.com/2022/09/progress-bars-python-tqdm-fun-profit.html\n",
    "\n",
    "from time import sleep\n",
    "from tqdm.notebook import trange\n",
    "\n",
    "for i in trange(10, desc='Traning Model on 10 Epochs'):\n",
    "    sleep(0.01)\n",
    "    for x in trange(100, desc=f'Epoch {i}'):\n",
    "        sleep(0.001)"
   ]
  },
  {
   "cell_type": "code",
   "execution_count": null,
   "metadata": {},
   "outputs": [],
   "source": []
  },
  {
   "cell_type": "code",
   "execution_count": null,
   "metadata": {},
   "outputs": [],
   "source": []
  }
 ],
 "metadata": {
  "kernelspec": {
   "display_name": "Python 3 (ipykernel)",
   "language": "python",
   "name": "python3"
  },
  "language_info": {
   "codemirror_mode": {
    "name": "ipython",
    "version": 3
   },
   "file_extension": ".py",
   "mimetype": "text/x-python",
   "name": "python",
   "nbconvert_exporter": "python",
   "pygments_lexer": "ipython3",
   "version": "3.10.12"
  }
 },
 "nbformat": 4,
 "nbformat_minor": 4
}
