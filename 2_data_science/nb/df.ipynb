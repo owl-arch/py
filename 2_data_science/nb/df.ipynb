{
 "cells": [
  {
   "cell_type": "code",
   "execution_count": 1,
   "metadata": {},
   "outputs": [
    {
     "data": {
      "text/plain": [
       "<bound method NDFrame.head of        UF            Municipio  Valor\n",
       "0      AC           ACRELANDIA    850\n",
       "1      AC           ACRELANDIA    600\n",
       "2      AC           ACRELANDIA    750\n",
       "3      AC           ACRELANDIA    600\n",
       "4      AC           ACRELANDIA    700\n",
       "...    ..                  ...    ...\n",
       "99995  AC  SANTA ROSA DO PURUS   1202\n",
       "99996  AC  SANTA ROSA DO PURUS   1536\n",
       "99997  AC  SANTA ROSA DO PURUS    776\n",
       "99998  AC  SANTA ROSA DO PURUS   1636\n",
       "99999  AC  SANTA ROSA DO PURUS   1394\n",
       "\n",
       "[100000 rows x 3 columns]>"
      ]
     },
     "execution_count": 1,
     "metadata": {},
     "output_type": "execute_result"
    }
   ],
   "source": [
    "import pandas as pd\n",
    "from jupyter_datatables import init_datatables_mode\n",
    "import matplotlib as plt\n",
    "from tqdm.notebook import tqdm\n",
    "\n",
    "#init_datatables_mode()\n",
    "\n",
    "#print(pd.options.display.max_rows)\n",
    "\n",
    "#col = ['UF', 'NOME MUNICÍPIO', 'NOME FAVORECIDO', 'VALOR PARCELA']\n",
    "colunas_selecionadas_bolsa_familia = ['UF','NOME MUNICÍPIO','VALOR PARCELA']\n",
    "\n",
    "tqdm.pandas()\n",
    "\n",
    "# uri do arquivo zip\n",
    "uri='https://portaldatransparencia.gov.br/download-de-dados/novo-bolsa-familia/202306'\n",
    "\n",
    "df = pd.read_csv('/root/datasets/202306_NovoBolsaFamilia.csv',\n",
    "                 delimiter=';',\n",
    "                 encoding = 'ISO-8859-1',\n",
    "                 nrows=100000,\n",
    "                 usecols=colunas_selecionadas_bolsa_familia\n",
    "                 )\n",
    "df.columns = ['UF', 'Municipio', 'Valor']\n",
    "\n",
    "# troca ,00 por '' \n",
    "df['Valor'] = df['Valor'].str.replace(',00', '')\n",
    "\n",
    "# converte a coluna VALOR para número inteiro\n",
    "df['Valor'] = df['Valor'].astype(int)\n",
    "\n",
    "df.head"
   ]
  },
  {
   "cell_type": "code",
   "execution_count": 45,
   "metadata": {},
   "outputs": [
    {
     "name": "stdout",
     "output_type": "stream",
     "text": [
      "['ACRELANDIA' 'ASSIS BRASIL' 'BRASILEIA' 'BUJARI' 'CAPIXABA'\n",
      " 'CRUZEIRO DO SUL' 'EPITACIOLANDIA' 'FEIJO' 'JORDAO' 'MANCIO LIMA'\n",
      " 'MANOEL URBANO' 'MARECHAL THAUMATURGO' 'PLACIDO DE CASTRO' 'PORTO ACRE'\n",
      " 'PORTO WALTER' 'RIO BRANCO' 'RODRIGUES ALVES' 'SANTA ROSA DO PURUS'\n",
      " 'SENA MADUREIRA' 'SENADOR GUIOMARD' 'TARAUACA' 'XAPURI' 'AGUA BRANCA'\n",
      " 'ANADIA' 'ARAPIRACA' 'ATALAIA' 'BARRA DE SANTO ANTONIO'\n",
      " 'BARRA DE SAO MIGUEL' 'BATALHA' 'BELEM' 'BELO MONTE' 'BOCA DA MATA'\n",
      " 'BRANQUINHA' 'CACIMBINHAS' 'CAJUEIRO' 'CAMPESTRE' 'CAMPO ALEGRE'\n",
      " 'CAMPO GRANDE' 'CANAPI' 'CAPELA' 'CARNEIROS' 'CHA PRETA' 'COITE DO NOIA'\n",
      " 'COLONIA LEOPOLDINA' 'COQUEIRO SECO' 'CORURIPE' 'CRAIBAS'\n",
      " 'DELMIRO GOUVEIA' 'DOIS RIACHOS' 'ESTRELA DE ALAGOAS' 'FEIRA GRANDE'\n",
      " 'FELIZ DESERTO' 'FLEXEIRAS' 'GIRAU DO PONCIANO' 'IBATEGUARA' 'IGACI'\n",
      " 'IGREJA NOVA' 'INHAPI' 'JACARE DOS HOMENS' 'JACUIPE' 'JAPARATINGA'\n",
      " 'JARAMATAIA' 'JEQUIA DA PRAIA' 'JOAQUIM GOMES' 'JUNDIA' 'JUNQUEIRO'\n",
      " 'LAGOA DA CANOA' 'LIMOEIRO DE ANADIA' 'MACEIO' 'MAJOR ISIDORO'\n",
      " 'MAR VERMELHO' 'MARAGOGI' 'MARAVILHA' 'MARECHAL DEODORO' 'MARIBONDO'\n",
      " 'MATA GRANDE' 'MATRIZ DE CAMARAGIBE' 'MESSIAS' 'MINADOR DO NEGRAO'\n",
      " 'MONTEIROPOLIS' 'MURICI' 'NOVO LINO' \"OLHO D'AGUA DAS FLORES\"\n",
      " \"OLHO D'AGUA DO CASADO\" \"OLHO D'AGUA GRANDE\" 'OLIVENCA' 'OURO BRANCO'\n",
      " 'PALESTINA' 'PALMEIRA DOS INDIOS' 'PAO DE ACUCAR' 'PARICONHA'\n",
      " 'PARIPUEIRA' 'PASSO DE CAMARAGIBE' 'PAULO JACINTO' 'PENEDO' 'PIACABUCU'\n",
      " 'PILAR' 'PINDOBA' 'PIRANHAS' 'POCO DAS TRINCHEIRAS' 'PORTO CALVO'\n",
      " 'PORTO DE PEDRAS' 'PORTO REAL DO COLEGIO' 'QUEBRANGULO' 'RIO LARGO'\n",
      " 'ROTEIRO' 'SANTA LUZIA DO NORTE' 'SANTANA DO IPANEMA' 'SANTANA DO MUNDAU'\n",
      " 'SAO BRAS' 'SAO JOSE DA LAJE' 'SAO JOSE DA TAPERA' 'SAO LUIS DO QUITUNDE'\n",
      " 'SAO MIGUEL DOS CAMPOS' 'SAO MIGUEL DOS MILAGRES' 'SAO SEBASTIAO'\n",
      " 'SATUBA' 'SENADOR RUI PALMEIRA' \"TANQUE D'ARCA\" 'TAQUARANA'\n",
      " 'TEOTONIO VILELA' 'TRAIPU' 'UNIAO DOS PALMARES' 'VICOSA' 'ALVARAES'\n",
      " 'AMATURA' 'ANAMA' 'ANORI' 'APUI' 'ATALAIA DO NORTE' 'AUTAZES' 'BARCELOS'\n",
      " 'BARREIRINHA' 'BENJAMIN CONSTANT' 'BERURI' 'BOA VISTA DO RAMOS'\n",
      " 'BOCA DO ACRE' 'BORBA' 'CAAPIRANGA' 'CANUTAMA' 'CARAUARI' 'CAREIRO'\n",
      " 'CAREIRO DA VARZEA' 'COARI' 'CODAJAS' 'EIRUNEPE' 'ENVIRA' 'FONTE BOA'\n",
      " 'GUAJARA' 'HUMAITA' 'IPIXUNA' 'IRANDUBA' 'ITACOATIARA' 'ITAMARATI'\n",
      " 'ITAPIRANGA' 'JAPURA' 'JURUA' 'JUTAI' 'LABREA' 'MANACAPURU' 'MANAQUIRI'\n",
      " 'MANAUS']\n"
     ]
    },
    {
     "data": {
      "text/plain": [
       "numpy.ndarray"
      ]
     },
     "execution_count": 45,
     "metadata": {},
     "output_type": "execute_result"
    }
   ],
   "source": [
    "Municipios=df['Municipio'].unique()\n",
    "print(Municipios)\n",
    "type(Municipios)"
   ]
  },
  {
   "cell_type": "code",
   "execution_count": 3,
   "metadata": {},
   "outputs": [
    {
     "data": {
      "text/html": [
       "<div>\n",
       "<style scoped>\n",
       "    .dataframe tbody tr th:only-of-type {\n",
       "        vertical-align: middle;\n",
       "    }\n",
       "\n",
       "    .dataframe tbody tr th {\n",
       "        vertical-align: top;\n",
       "    }\n",
       "\n",
       "    .dataframe thead th {\n",
       "        text-align: right;\n",
       "    }\n",
       "</style>\n",
       "<table border=\"1\" class=\"dataframe\">\n",
       "  <thead>\n",
       "    <tr style=\"text-align: right;\">\n",
       "      <th></th>\n",
       "      <th>Valor</th>\n",
       "    </tr>\n",
       "  </thead>\n",
       "  <tbody>\n",
       "    <tr>\n",
       "      <th>count</th>\n",
       "      <td>100000.000000</td>\n",
       "    </tr>\n",
       "    <tr>\n",
       "      <th>mean</th>\n",
       "      <td>731.655560</td>\n",
       "    </tr>\n",
       "    <tr>\n",
       "      <th>std</th>\n",
       "      <td>217.943897</td>\n",
       "    </tr>\n",
       "    <tr>\n",
       "      <th>min</th>\n",
       "      <td>180.000000</td>\n",
       "    </tr>\n",
       "    <tr>\n",
       "      <th>25%</th>\n",
       "      <td>600.000000</td>\n",
       "    </tr>\n",
       "    <tr>\n",
       "      <th>50%</th>\n",
       "      <td>700.000000</td>\n",
       "    </tr>\n",
       "    <tr>\n",
       "      <th>75%</th>\n",
       "      <td>800.000000</td>\n",
       "    </tr>\n",
       "    <tr>\n",
       "      <th>max</th>\n",
       "      <td>2746.000000</td>\n",
       "    </tr>\n",
       "  </tbody>\n",
       "</table>\n",
       "</div>"
      ],
      "text/plain": [
       "               Valor\n",
       "count  100000.000000\n",
       "mean      731.655560\n",
       "std       217.943897\n",
       "min       180.000000\n",
       "25%       600.000000\n",
       "50%       700.000000\n",
       "75%       800.000000\n",
       "max      2746.000000"
      ]
     },
     "execution_count": 3,
     "metadata": {},
     "output_type": "execute_result"
    }
   ],
   "source": [
    "df.describe()"
   ]
  },
  {
   "cell_type": "code",
   "execution_count": 80,
   "metadata": {},
   "outputs": [
    {
     "data": {
      "application/vnd.jupyter.widget-view+json": {
       "model_id": "471eed93ca574fe28b1d805ab2473c0a",
       "version_major": 2,
       "version_minor": 0
      },
      "text/plain": [
       "  0%|          | 0/162 [00:00<?, ?it/s]"
      ]
     },
     "metadata": {},
     "output_type": "display_data"
    },
    {
     "name": "stdout",
     "output_type": "stream",
     "text": [
      "(162,)\n"
     ]
    },
    {
     "data": {
      "text/plain": [
       "ACRELANDIA              5271616\n",
       "AGUA BRANCA            10355524\n",
       "ALVARAES                9381969\n",
       "AMATURA                 3617604\n",
       "ANADIA                 11505664\n",
       "                        ...    \n",
       "TEOTONIO VILELA        39175081\n",
       "TRAIPU                 25381444\n",
       "UNIAO DOS PALMARES    136492489\n",
       "VICOSA                 20757136\n",
       "XAPURI                  7203856\n",
       "Name: Municipio, Length: 162, dtype: int64"
      ]
     },
     "execution_count": 80,
     "metadata": {},
     "output_type": "execute_result"
    }
   ],
   "source": [
    "tqdm.pandas()\n",
    "\n",
    "# Serie com Quantidade de Pagamentos em cada cidade e ordena pelo indice\n",
    "Quantidade_Pagamentos_por_Municipio=df['Municipio'].value_counts().sort_index().progress_apply(lambda x: x**2)\n",
    "Quantidade_Pagamentos_por_Municipio.columns = ['Municipio','Quantidade']\n",
    "\n",
    "type(Quantidade_Pagamentos_por_Municipio)\n",
    "print(Total_Pagamentos_por_Municipio.shape)\n",
    "Quantidade_Pagamentos_por_Municipio.head()\n",
    "Quantidade_Pagamentos_por_Municipio"
   ]
  },
  {
   "cell_type": "code",
   "execution_count": 77,
   "metadata": {},
   "outputs": [
    {
     "data": {
      "application/vnd.jupyter.widget-view+json": {
       "model_id": "517300fe60554d2ba99d1949ded4d134",
       "version_major": 2,
       "version_minor": 0
      },
      "text/plain": [
       "  0%|          | 0/162 [00:00<?, ?it/s]"
      ]
     },
     "metadata": {},
     "output_type": "display_data"
    },
    {
     "name": "stdout",
     "output_type": "stream",
     "text": [
      "(162,)\n"
     ]
    },
    {
     "data": {
      "text/plain": [
       "Municipio\n",
       "ACRELANDIA             2792458234225\n",
       "AGUA BRANCA            5648384416689\n",
       "ALVARAES               6203810655025\n",
       "AMATURA                2694210374025\n",
       "ANADIA                 4953170727184\n",
       "                           ...      \n",
       "TEOTONIO VILELA       18008989690000\n",
       "TRAIPU                12319699863249\n",
       "UNIAO DOS PALMARES    64605617968644\n",
       "VICOSA                 9920364414921\n",
       "XAPURI                 3918899303641\n",
       "Name: Valor, Length: 162, dtype: int64"
      ]
     },
     "execution_count": 77,
     "metadata": {},
     "output_type": "execute_result"
    }
   ],
   "source": [
    "# # Serie com Total de Pagamentos em cada cidade e ordenação decrescente pelo valor\n",
    "#Total_Pagamentos_por_Municipio=df.groupby(['Municipio'])['Valor'].sum().sort_values('Valor', ascending=False).progress_apply(lambda x: x**2)\n",
    "Total_Pagamentos_por_Municipio=df.groupby(['Municipio'])['Valor'].sum().progress_apply(lambda x: x**2)\n",
    "type(Total_Pagamentos_por_Municipio)\n",
    "print(Total_Pagamentos_por_Municipio.shape)\n",
    "\n",
    "Total_Pagamentos_por_Municipio"
   ]
  },
  {
   "cell_type": "code",
   "execution_count": 81,
   "metadata": {},
   "outputs": [
    {
     "name": "stdout",
     "output_type": "stream",
     "text": [
      "(162, 2)\n"
     ]
    },
    {
     "data": {
      "text/html": [
       "<div>\n",
       "<style scoped>\n",
       "    .dataframe tbody tr th:only-of-type {\n",
       "        vertical-align: middle;\n",
       "    }\n",
       "\n",
       "    .dataframe tbody tr th {\n",
       "        vertical-align: top;\n",
       "    }\n",
       "\n",
       "    .dataframe thead th {\n",
       "        text-align: right;\n",
       "    }\n",
       "</style>\n",
       "<table border=\"1\" class=\"dataframe\">\n",
       "  <thead>\n",
       "    <tr style=\"text-align: right;\">\n",
       "      <th></th>\n",
       "      <th>Municipio</th>\n",
       "      <th>Valor</th>\n",
       "    </tr>\n",
       "  </thead>\n",
       "  <tbody>\n",
       "    <tr>\n",
       "      <th>ACRELANDIA</th>\n",
       "      <td>5271616</td>\n",
       "      <td>2792458234225</td>\n",
       "    </tr>\n",
       "    <tr>\n",
       "      <th>AGUA BRANCA</th>\n",
       "      <td>10355524</td>\n",
       "      <td>5648384416689</td>\n",
       "    </tr>\n",
       "    <tr>\n",
       "      <th>ALVARAES</th>\n",
       "      <td>9381969</td>\n",
       "      <td>6203810655025</td>\n",
       "    </tr>\n",
       "    <tr>\n",
       "      <th>AMATURA</th>\n",
       "      <td>3617604</td>\n",
       "      <td>2694210374025</td>\n",
       "    </tr>\n",
       "    <tr>\n",
       "      <th>ANADIA</th>\n",
       "      <td>11505664</td>\n",
       "      <td>4953170727184</td>\n",
       "    </tr>\n",
       "    <tr>\n",
       "      <th>...</th>\n",
       "      <td>...</td>\n",
       "      <td>...</td>\n",
       "    </tr>\n",
       "    <tr>\n",
       "      <th>TEOTONIO VILELA</th>\n",
       "      <td>39175081</td>\n",
       "      <td>18008989690000</td>\n",
       "    </tr>\n",
       "    <tr>\n",
       "      <th>TRAIPU</th>\n",
       "      <td>25381444</td>\n",
       "      <td>12319699863249</td>\n",
       "    </tr>\n",
       "    <tr>\n",
       "      <th>UNIAO DOS PALMARES</th>\n",
       "      <td>136492489</td>\n",
       "      <td>64605617968644</td>\n",
       "    </tr>\n",
       "    <tr>\n",
       "      <th>VICOSA</th>\n",
       "      <td>20757136</td>\n",
       "      <td>9920364414921</td>\n",
       "    </tr>\n",
       "    <tr>\n",
       "      <th>XAPURI</th>\n",
       "      <td>7203856</td>\n",
       "      <td>3918899303641</td>\n",
       "    </tr>\n",
       "  </tbody>\n",
       "</table>\n",
       "<p>162 rows × 2 columns</p>\n",
       "</div>"
      ],
      "text/plain": [
       "                    Municipio           Valor\n",
       "ACRELANDIA            5271616   2792458234225\n",
       "AGUA BRANCA          10355524   5648384416689\n",
       "ALVARAES              9381969   6203810655025\n",
       "AMATURA               3617604   2694210374025\n",
       "ANADIA               11505664   4953170727184\n",
       "...                       ...             ...\n",
       "TEOTONIO VILELA      39175081  18008989690000\n",
       "TRAIPU               25381444  12319699863249\n",
       "UNIAO DOS PALMARES  136492489  64605617968644\n",
       "VICOSA               20757136   9920364414921\n",
       "XAPURI                7203856   3918899303641\n",
       "\n",
       "[162 rows x 2 columns]"
      ]
     },
     "execution_count": 81,
     "metadata": {},
     "output_type": "execute_result"
    }
   ],
   "source": [
    "# merge both series \n",
    "#teste = pd.merge(Quantidade_Pagamentos_por_Municipio, Total_Pagamentos_por_Municipio, right_index = True,  left_index = True)\n",
    "#teste.columns = ['Municipio', 'Quantidade', 'Total']\n",
    "\n",
    "teste = pd.merge(Quantidade_Pagamentos_por_Municipio, Total_Pagamentos_por_Municipio, right_index = True,  left_index = True)\n",
    "#teste = pd.merge(Quantidade_Pagamentos_por_Municipio, Total_Pagamentos_por_Municipio,  on='Municipio', how='inner')\n",
    "#teste = pd.concat(Quantidade_Pagamentos_por_Municipio, Total_Pagamentos_por_Municipio)\n",
    "type(teste)\n",
    "print(teste.shape)\n",
    "\n",
    "\n",
    "teste.to_csv('output.csv', index=True)\n",
    "teste\n",
    "\n"
   ]
  },
  {
   "cell_type": "code",
   "execution_count": 102,
   "metadata": {},
   "outputs": [
    {
     "data": {
      "text/plain": [
       "count    1.800000e+01\n",
       "mean     5.775952e+13\n",
       "std      1.985688e+14\n",
       "min      1.575904e+10\n",
       "25%      2.404725e+12\n",
       "50%      3.322592e+12\n",
       "75%      9.926168e+12\n",
       "max      8.478566e+14\n",
       "Name: Valor, dtype: float64"
      ]
     },
     "execution_count": 102,
     "metadata": {},
     "output_type": "execute_result"
    }
   ],
   "source": [
    "Municipios_Pagamentos_Quantidade.describe()"
   ]
  },
  {
   "cell_type": "code",
   "execution_count": 82,
   "metadata": {},
   "outputs": [
    {
     "data": {
      "text/plain": [
       "<Axes: ylabel='Frequency'>"
      ]
     },
     "execution_count": 82,
     "metadata": {},
     "output_type": "execute_result"
    },
    {
     "data": {
      "image/png": "[encoded data removed]",
      "text/plain": [
       "<Figure size 640x480 with 1 Axes>"
      ]
     },
     "metadata": {},
     "output_type": "display_data"
    }
   ],
   "source": [
    "#Total_Pagamentos_por_Municipio.plot()\n",
    "Total_Pagamentos_por_Municipio.plot(kind='hist')"
   ]
  },
  {
   "cell_type": "code",
   "execution_count": 83,
   "metadata": {},
   "outputs": [
    {
     "data": {
      "text/plain": [
       "<Axes: >"
      ]
     },
     "execution_count": 83,
     "metadata": {},
     "output_type": "execute_result"
    },
    {
     "data": {
      "image/png": "[encoded data removed]",
      "text/plain": [
       "<Figure size 640x480 with 1 Axes>"
      ]
     },
     "metadata": {},
     "output_type": "display_data"
    }
   ],
   "source": [
    "Total_Pagamentos_por_Municipio.boxplot()"
   ]
  },
  {
   "cell_type": "code",
   "execution_count": 84,
   "metadata": {},
   "outputs": [
    {
     "data": {
      "application/vnd.jupyter.widget-view+json": {
       "model_id": "5600c8ca841e4c8cb097028f5e38f80c",
       "version_major": 2,
       "version_minor": 0
      },
      "text/plain": [
       "Traning Model on 10 Epochs:   0%|          | 0/10 [00:00<?, ?it/s]"
      ]
     },
     "metadata": {},
     "output_type": "display_data"
    },
    {
     "data": {
      "application/vnd.jupyter.widget-view+json": {
       "model_id": "1ba8850e234341e08c084e0a3410c0a1",
       "version_major": 2,
       "version_minor": 0
      },
      "text/plain": [
       "Epoch 0:   0%|          | 0/100 [00:00<?, ?it/s]"
      ]
     },
     "metadata": {},
     "output_type": "display_data"
    },
    {
     "data": {
      "application/vnd.jupyter.widget-view+json": {
       "model_id": "1bf2233fe64c4a528261f520916f58a8",
       "version_major": 2,
       "version_minor": 0
      },
      "text/plain": [
       "Epoch 1:   0%|          | 0/100 [00:00<?, ?it/s]"
      ]
     },
     "metadata": {},
     "output_type": "display_data"
    },
    {
     "data": {
      "application/vnd.jupyter.widget-view+json": {
       "model_id": "775e6bccb49448a4837ad58cc896b062",
       "version_major": 2,
       "version_minor": 0
      },
      "text/plain": [
       "Epoch 2:   0%|          | 0/100 [00:00<?, ?it/s]"
      ]
     },
     "metadata": {},
     "output_type": "display_data"
    },
    {
     "data": {
      "application/vnd.jupyter.widget-view+json": {
       "model_id": "5d60068d67754ca7bba8977a23587466",
       "version_major": 2,
       "version_minor": 0
      },
      "text/plain": [
       "Epoch 3:   0%|          | 0/100 [00:00<?, ?it/s]"
      ]
     },
     "metadata": {},
     "output_type": "display_data"
    },
    {
     "data": {
      "application/vnd.jupyter.widget-view+json": {
       "model_id": "7530408b4a61498da6c48268b76109ea",
       "version_major": 2,
       "version_minor": 0
      },
      "text/plain": [
       "Epoch 4:   0%|          | 0/100 [00:00<?, ?it/s]"
      ]
     },
     "metadata": {},
     "output_type": "display_data"
    },
    {
     "data": {
      "application/vnd.jupyter.widget-view+json": {
       "model_id": "065d495ab63d4df5b47dc961f8f708bf",
       "version_major": 2,
       "version_minor": 0
      },
      "text/plain": [
       "Epoch 5:   0%|          | 0/100 [00:00<?, ?it/s]"
      ]
     },
     "metadata": {},
     "output_type": "display_data"
    },
    {
     "data": {
      "application/vnd.jupyter.widget-view+json": {
       "model_id": "2753c791812f4b909a3c3e919340d00a",
       "version_major": 2,
       "version_minor": 0
      },
      "text/plain": [
       "Epoch 6:   0%|          | 0/100 [00:00<?, ?it/s]"
      ]
     },
     "metadata": {},
     "output_type": "display_data"
    },
    {
     "data": {
      "application/vnd.jupyter.widget-view+json": {
       "model_id": "929f295127dc4f2985f089620789ab4c",
       "version_major": 2,
       "version_minor": 0
      },
      "text/plain": [
       "Epoch 7:   0%|          | 0/100 [00:00<?, ?it/s]"
      ]
     },
     "metadata": {},
     "output_type": "display_data"
    },
    {
     "data": {
      "application/vnd.jupyter.widget-view+json": {
       "model_id": "b95d77df49db431e9238c71f6d9e1382",
       "version_major": 2,
       "version_minor": 0
      },
      "text/plain": [
       "Epoch 8:   0%|          | 0/100 [00:00<?, ?it/s]"
      ]
     },
     "metadata": {},
     "output_type": "display_data"
    },
    {
     "data": {
      "application/vnd.jupyter.widget-view+json": {
       "model_id": "d7604bd61d8d4a1d885b5fcad740b255",
       "version_major": 2,
       "version_minor": 0
      },
      "text/plain": [
       "Epoch 9:   0%|          | 0/100 [00:00<?, ?it/s]"
      ]
     },
     "metadata": {},
     "output_type": "display_data"
    }
   ],
   "source": [
    "# https://www.kdnuggets.com/2022/09/progress-bars-python-tqdm-fun-profit.html\n",
    "\n",
    "from time import sleep\n",
    "from tqdm.notebook import trange\n",
    "\n",
    "for i in trange(10, desc='Traning Model on 10 Epochs'):\n",
    "    sleep(0.01)\n",
    "    for x in trange(100, desc=f'Epoch {i}'):\n",
    "        sleep(0.001)"
   ]
  },
  {
   "cell_type": "code",
   "execution_count": null,
   "metadata": {},
   "outputs": [],
   "source": []
  },
  {
   "cell_type": "code",
   "execution_count": null,
   "metadata": {},
   "outputs": [],
   "source": []
  }
 ],
 "metadata": {
  "kernelspec": {
   "display_name": "Python 3 (ipykernel)",
   "language": "python",
   "name": "python3"
  },
  "language_info": {
   "codemirror_mode": {
    "name": "ipython",
    "version": 3
   },
   "file_extension": ".py",
   "mimetype": "text/x-python",
   "name": "python",
   "nbconvert_exporter": "python",
   "pygments_lexer": "ipython3",
   "version": "3.10.12"
  }
 },
 "nbformat": 4,
 "nbformat_minor": 4
}
